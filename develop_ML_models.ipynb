{
 "cells": [
  {
   "cell_type": "markdown",
   "id": "7e3d9259-a56e-4c44-870f-fd9236e5dac4",
   "metadata": {},
   "source": [
    "# Develop machine learning model"
   ]
  },
  {
   "cell_type": "code",
   "execution_count": null,
   "id": "e1ce3958-e496-4c68-9986-1c59bfa6e385",
   "metadata": {},
   "outputs": [],
   "source": [
    "import os, glob\n",
    "import pandas as pd\n",
    "import matplotlib.pyplot as plt\n",
    "import numpy as np\n",
    "from sklearn.model_selection import cross_val_score\n",
    "from sklearn.ensemble import RandomForestRegressor\n",
    "from sklearn.svm import SVR\n",
    "from sklearn.preprocessing import StandardScaler"
   ]
  },
  {
   "cell_type": "code",
   "execution_count": null,
   "id": "930f0209-26aa-491b-bfa1-23d8e8aa5ef1",
   "metadata": {},
   "outputs": [],
   "source": [
    "# Load training data\n",
    "out_dir = '/Volumes/LaCie/raineyaberle/Research/PhD/SnowMaL/study-sites/MCS/'\n",
    "training_data_fn = os.path.join(out_dir, 'MCS_2024-03-15_training_data.csv')\n",
    "training_data = pd.read_csv(training_data_fn)\n",
    "training_data"
   ]
  },
  {
   "cell_type": "code",
   "execution_count": null,
   "id": "fc602ac6-f564-4b0b-ac8d-b4bc551c9bdf",
   "metadata": {},
   "outputs": [],
   "source": [
    "# Define machine learning models to test\n",
    "clfs = [SVR(kernel='rbf'),\n",
    "        RandomForestRegressor(n_estimators=100)\n",
    "       ]\n",
    "\n",
    "clf_names = ['Support Vector Machine Regressor',\n",
    "             'Random Forest Regressor']\n",
    "\n",
    "# Define feature columns and labels\n",
    "features = ['elevation', 'slope', 'aspect', \n",
    "            'SNOTEL_snow_depth', 'SNOTEL_SWE', 'SNOTEL_pdd_cumsum', 'SNOTEL_elevation', 'SNOTEL_slope', 'SNOTEL_aspect']\n",
    "labels = ['snow_depth_m']"
   ]
  },
  {
   "cell_type": "code",
   "execution_count": null,
   "id": "fe933b89-cab6-40c8-8a1b-f15a2353178f",
   "metadata": {},
   "outputs": [],
   "source": [
    "# Subset training data to speed things up for testing\n",
    "training_data_subset = training_data.iloc[::100, :]\n",
    "\n",
    "# Split training data into X and y\n",
    "X = training_data[features]\n",
    "y = training_data[labels].values\n",
    "\n",
    "# Apply standard scaler to features\n",
    "scaler = StandardScaler()\n",
    "scaler_fit = scaler.fit(X)\n",
    "X_scaled = scaler_fit.transform(X)\n",
    "X_scaled"
   ]
  },
  {
   "cell_type": "code",
   "execution_count": null,
   "id": "f24b41c8-89b6-4bfd-a116-91f885fc36ce",
   "metadata": {},
   "outputs": [],
   "source": [
    "for clf, clf_name in list(zip(clfs, clf_names)):\n",
    "    print('\\n', clf_name)\n",
    "    # Calculate cross-validated score for classifier\n",
    "    scores = cross_val_score(clf, X_scaled, y, cv=5)\n",
    "    score_mean = np.nanmean(scores)\n",
    "    print(score_mean)"
   ]
  },
  {
   "cell_type": "code",
   "execution_count": null,
   "id": "19116686-26c9-4c4f-ae82-085996d93a62",
   "metadata": {},
   "outputs": [],
   "source": []
  }
 ],
 "metadata": {
  "kernelspec": {
   "display_name": "snowmal",
   "language": "python",
   "name": "snowmal"
  },
  "language_info": {
   "codemirror_mode": {
    "name": "ipython",
    "version": 3
   },
   "file_extension": ".py",
   "mimetype": "text/x-python",
   "name": "python",
   "nbconvert_exporter": "python",
   "pygments_lexer": "ipython3",
   "version": "3.12.4"
  }
 },
 "nbformat": 4,
 "nbformat_minor": 5
}
