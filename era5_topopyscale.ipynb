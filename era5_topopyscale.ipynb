{
 "cells": [
  {
   "cell_type": "markdown",
   "id": "22c31cef-ea8e-4485-8415-b2d3220976bb",
   "metadata": {},
   "source": [
    "# Download and downscale ERA5 daily products using [TopoPyScale](https://topopyscale.readthedocs.io/en/latest/)"
   ]
  },
  {
   "cell_type": "code",
   "execution_count": null,
   "id": "9e39e690-3cbb-4d91-9876-5be28dfe7764",
   "metadata": {},
   "outputs": [],
   "source": [
    "import pandas as pd\n",
    "from TopoPyScale import topoclass as tc\n",
    "from matplotlib import pyplot as plt\n",
    "from TopoPyScale import topo_plot as plot\n",
    "import os\n",
    "import xarray as xr\n",
    "import rioxarray as rxr\n",
    "import numpy as np"
   ]
  },
  {
   "cell_type": "code",
   "execution_count": null,
   "id": "b39103b6-439b-40a4-a336-2d197a21075a",
   "metadata": {
    "scrolled": true
   },
   "outputs": [],
   "source": [
    "# ========= STEP 1 ==========\n",
    "# Load Configuration\n",
    "config_file = '/Volumes/LaCie/raineyaberle/Research/PhD/SnowMaL/config.yml'\n",
    "mp = tc.Topoclass(config_file)\n",
    "# Compute parameters of the DEM (slope, aspect, sky view factor)\n",
    "mp.compute_dem_param()"
   ]
  },
  {
   "cell_type": "code",
   "execution_count": null,
   "id": "81418544-b9aa-4b19-81d8-c986fff1ddad",
   "metadata": {
    "scrolled": true
   },
   "outputs": [],
   "source": [
    "# ======== STEP 2 ===========\n",
    "# Check if downscaled climate data already exist in file\n",
    "out_fn = os.path.join(mp.config['outputs']['directory'], 'output.nc')\n",
    "if not os.path.exists(out_fn):\n",
    "    # Run the downscaling pipeline\n",
    "    # Calculate topographic variables, generate clusters\n",
    "    # Note: I had to delete the ds_param.nc file before the next step would run\n",
    "    ds_param_fn = os.path.join(mp.config['outputs']['directory'], mp.config['outputs']['file']['ds_param'])\n",
    "    os.remove(ds_param_fn)\n",
    "    mp.extract_topo_param()\n",
    "    # compute solar geometry and horizon angles\n",
    "    mp.compute_solar_geometry()\n",
    "    mp.compute_horizon()\n",
    "    # Perform the downscaling\n",
    "    mp.downscale_climate()\n",
    "    # Export output to netCDF\n",
    "    mp.to_netcdf()\n",
    "    # Plot temp in K for one time step\n",
    "    plot.map_variable(mp.downscaled_pts, mp.toposub.ds_param, time_step=100, var='t')\n",
    "    plt.show()\n",
    "\n",
    "# Load output downscaled climate data\n",
    "out = xr.open_dataset(out_fn)\n",
    "print('Downscaled climate data loaded from file.')"
   ]
  },
  {
   "cell_type": "code",
   "execution_count": null,
   "id": "556b9a83-25b4-4d29-9257-89318af866cc",
   "metadata": {},
   "outputs": [],
   "source": [
    "# ========= STEP 3 ==========\n",
    "# Convert downscaled climate data into daily mean temperature and precip time series\n",
    "out_adj_fn = out_fn.replace('.nc', '_daily.nc')\n",
    "if os.path.exists(out_adj_fn):\n",
    "    out_adj_spatial = xr.open_dataset(out_adj_fn)\n",
    "    print('Daily climate and terrain variables loaded from file.')\n",
    "else:\n",
    "\n",
    "    # Adjust downscaled climate variables\n",
    "    # Air temperature: convert to degrees C, take the mean daily value\n",
    "    out_temp_C = (out['t'] - 273.15).resample(time='1D').mean().assign_attrs(units='C', long_name='Temperature', standard_name='temperature')\n",
    "    # Precipitation: take the daily sum of values (mm/hr --> mm/d)\n",
    "    out_precip = out['tp'].resample(time='1D').sum().assign_attrs(units='mm d**-1', long_name='Precipitation', standard_name='precipitation')\n",
    "    # Create new dataset from adjusted climate variables\n",
    "    out_adj = xr.Dataset(\n",
    "        data_vars=dict(\n",
    "            t=out_temp_C,\n",
    "            tp=out_precip,\n",
    "        ),\n",
    "        coords=out_temp_C.coords,\n",
    "    )\n",
    "    # Map back onto spatial coordinates\n",
    "    out_adj_spatial = out_adj.sel(point_name=mp.toposub.ds_param.point_name)\n",
    "    # Add terrain variables\n",
    "    terrain_params = ['elevation', 'slope', 'aspect', 'svf']\n",
    "    for param in terrain_params:\n",
    "        out_adj_spatial[param] = mp.toposub.ds_param[param]\n",
    "    # Set points with no elevation data to NaN\n",
    "    out_adj_spatial = xr.where(out_adj_spatial['elevation'] == out_adj_spatial['elevation'].data[0,0], np.nan, out_adj_spatial)\n",
    "    # Set spatial information\n",
    "    dem_fn = os.path.join(mp.config['dem']['path'], mp.config['dem']['file'])\n",
    "    crs = f'EPSG:{rxr.open_rasterio(dem_fn).rio.crs.to_epsg()}'\n",
    "    out_adj_spatial = out_adj_spatial.rio.write_crs(crs)\n",
    "    # Save to file\n",
    "    out_adj_spatial.to_netcdf(out_adj_fn)\n",
    "    print('Daily climate and terrain variables saved to file:', out_adj_fn)\n",
    "\n",
    "# Plot mean temperature to check results\n",
    "out_adj_spatial['t'].mean(dim='time').plot.imshow()\n",
    "plt.show()"
   ]
  }
 ],
 "metadata": {
  "kernelspec": {
   "display_name": "downscaling",
   "language": "python",
   "name": "downscaling"
  },
  "language_info": {
   "codemirror_mode": {
    "name": "ipython",
    "version": 3
   },
   "file_extension": ".py",
   "mimetype": "text/x-python",
   "name": "python",
   "nbconvert_exporter": "python",
   "pygments_lexer": "ipython3",
   "version": "3.9.16"
  }
 },
 "nbformat": 4,
 "nbformat_minor": 5
}
