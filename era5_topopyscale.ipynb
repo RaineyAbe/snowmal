{
 "cells": [
  {
   "cell_type": "markdown",
   "id": "22c31cef-ea8e-4485-8415-b2d3220976bb",
   "metadata": {},
   "source": [
    "# Download and downscale ERA5 daily products using [TopoPyScale](https://topopyscale.readthedocs.io/en/latest/)"
   ]
  },
  {
   "cell_type": "code",
   "execution_count": null,
   "id": "9e39e690-3cbb-4d91-9876-5be28dfe7764",
   "metadata": {},
   "outputs": [],
   "source": [
    "import pandas as pd\n",
    "from TopoPyScale import topoclass as tc\n",
    "from matplotlib import pyplot as plt"
   ]
  },
  {
   "cell_type": "code",
   "execution_count": null,
   "id": "b39103b6-439b-40a4-a336-2d197a21075a",
   "metadata": {
    "scrolled": true
   },
   "outputs": [],
   "source": [
    "# ========= STEP 1 ==========\n",
    "# Load Configuration\n",
    "config_file = '/Volumes/LaCie/raineyaberle/Research/PhD/SnowMaL/study-sites/MCS/ERA5/config.yml'\n",
    "mp = tc.Topoclass(config_file)"
   ]
  },
  {
   "cell_type": "code",
   "execution_count": null,
   "id": "81418544-b9aa-4b19-81d8-c986fff1ddad",
   "metadata": {
    "scrolled": true
   },
   "outputs": [],
   "source": [
    "# ======== STEP 2 ===========\n",
    "# Compute parameters of the DEM (slope, aspect, sky view factor)\n",
    "mp.compute_dem_param()\n",
    "# mp.extract_topo_param()"
   ]
  },
  {
   "cell_type": "code",
   "execution_count": null,
   "id": "4f0267d5-7c20-498e-8e41-28ec463c543d",
   "metadata": {},
   "outputs": [],
   "source": [
    "# ========= STEP 3 ==========\n",
    "# compute solar geometry and horizon angles\n",
    "mp.compute_solar_geometry()\n",
    "mp.compute_horizon()"
   ]
  },
  {
   "cell_type": "code",
   "execution_count": null,
   "id": "8e5c7a44-e6d9-4684-9569-7a7fc0c4372b",
   "metadata": {
    "scrolled": true
   },
   "outputs": [],
   "source": [
    "# ========= STEP 4 ==========\n",
    "# Perform the downscaling\n",
    "mp.downscale_climate()"
   ]
  },
  {
   "cell_type": "code",
   "execution_count": null,
   "id": "79421008-a096-4807-a6d1-12cc72ff7ee7",
   "metadata": {},
   "outputs": [],
   "source": [
    "import numpy as np\n",
    "mp.search_optimum_number_of_clusters(cluster_range=np.array([10, 50]))"
   ]
  },
  {
   "cell_type": "code",
   "execution_count": null,
   "id": "5e1419af-04cc-4756-834e-d0c1b2e04c8a",
   "metadata": {},
   "outputs": [],
   "source": [
    "# ========= STEP 5 ==========\n",
    "# explore the downscaled dataset. For instance the temperature difference between each point and the first one\n",
    "(mp.downscaled_pts.t-mp.downscaled_pts.t.isel(point_id=0)).plot()\n",
    "plt.show()"
   ]
  },
  {
   "cell_type": "code",
   "execution_count": null,
   "id": "e75f2285-9690-4c27-9c50-616ac31bee3a",
   "metadata": {},
   "outputs": [],
   "source": [
    "# ========= STEP 6 ==========\n",
    "# Export output to desired format\n",
    "mp.to_netcdf()"
   ]
  }
 ],
 "metadata": {
  "kernelspec": {
   "display_name": "downscaling",
   "language": "python",
   "name": "downscaling"
  },
  "language_info": {
   "codemirror_mode": {
    "name": "ipython",
    "version": 3
   },
   "file_extension": ".py",
   "mimetype": "text/x-python",
   "name": "python",
   "nbconvert_exporter": "python",
   "pygments_lexer": "ipython3",
   "version": "3.9.16"
  }
 },
 "nbformat": 4,
 "nbformat_minor": 5
}
