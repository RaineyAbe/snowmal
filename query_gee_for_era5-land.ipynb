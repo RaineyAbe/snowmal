{
 "cells": [
  {
   "cell_type": "markdown",
   "metadata": {
    "id": "6mNQl_OJNtXf"
   },
   "source": [
    "# Load and save ERA5-Land Daily Aggregated data over an Area of Interest\n",
    "\n",
    "\n",
    "## Requirements: \n",
    "\n",
    "- __Google Earth Engine account__. Sign up [here](https://earthengine.google.com/signup/).\n",
    "- __Reference DEM__ (.tif, .nc, or similar file readable by xarray). "
   ]
  },
  {
   "cell_type": "code",
   "execution_count": null,
   "metadata": {
    "id": "4KGjaZBrNuJc"
   },
   "outputs": [],
   "source": [
    "import ee\n",
    "import geedim as gd\n",
    "import geopandas as gpd\n",
    "import pandas as pd\n",
    "import matplotlib.pyplot as plt\n",
    "import numpy as np\n",
    "import os\n",
    "import glob\n",
    "from tqdm.auto import tqdm\n",
    "import xarray as xr\n",
    "import rioxarray as rxr\n",
    "import geojson\n",
    "from shapely.geometry import Polygon\n",
    "import datetime"
   ]
  },
  {
   "cell_type": "markdown",
   "metadata": {},
   "source": [
    "## Authenticate and initialize Google Earth Engine"
   ]
  },
  {
   "cell_type": "code",
   "execution_count": null,
   "metadata": {
    "id": "Y-u8ICnmNx1q"
   },
   "outputs": [],
   "source": [
    "try:\n",
    "    ee.Initialize()\n",
    "except:\n",
    "    ee.Authenticate()\n",
    "    ee.Initialize()"
   ]
  },
  {
   "cell_type": "markdown",
   "metadata": {},
   "source": [
    "## Define paths in directory and snow depth date"
   ]
  },
  {
   "cell_type": "code",
   "execution_count": null,
   "metadata": {},
   "outputs": [],
   "source": [
    "# Site info used for output file names\n",
    "site_name = 'MCS'\n",
    "date = '2024-03-15'\n",
    "\n",
    "out_dir = '/Volumes/LaCie/raineyaberle/Research/PhD/SnowMaL/study-sites/MCS/'\n",
    "refdem_fn = '/Volumes/LaCie/raineyaberle/Research/PhD/Skysat-Stereo/study-sites/MCS/refdem/MCS_REFDEM_WGS84.tif'"
   ]
  },
  {
   "cell_type": "code",
   "execution_count": null,
   "metadata": {},
   "outputs": [],
   "source": [
    "# Create AOI based on bounding box of reference DEM\n",
    "refdem = rxr.open_rasterio(refdem_fn).squeeze()\n",
    "xmin, xmax, ymin, ymax = [np.min(refdem.x.data), np.max(refdem.x.data), np.min(refdem.y.data), np.max(refdem.y.data)]\n",
    "aoi = Polygon([[xmin, ymin], [xmax, ymin], [xmax, ymax], [xmin, ymax], [xmin, ymin]])\n",
    "aoi_buffer = aoi.buffer(1e3)\n",
    "aoi_buffer_gdf = gpd.GeoDataFrame(geometry=[aoi_buffer], crs=f\"EPSG:{refdem.rio.crs.to_epsg()}\")\n",
    "aoi_buffer"
   ]
  },
  {
   "cell_type": "markdown",
   "metadata": {},
   "source": [
    "## Query GEE for ERA5-Land"
   ]
  },
  {
   "cell_type": "code",
   "execution_count": null,
   "metadata": {},
   "outputs": [],
   "source": [
    "# Adjust AOI for GEE querying\n",
    "aoi_buffer_wgs_gdf = aoi_buffer_gdf.to_crs('EPSG:4326')\n",
    "aoi_ee = ee.Geometry.Polygon(list(zip(aoi_buffer_wgs_gdf.geometry[0].exterior.coords.xy[0], \n",
    "                                      aoi_buffer_wgs_gdf.geometry[0].exterior.coords.xy[1])))\n",
    "\n",
    "# Define date range\n",
    "dt = datetime.datetime(int(date[0:4]), int(date[5:7]), int(date[8:]))\n",
    "if dt.month < 10:\n",
    "    water_year = dt.year\n",
    "else:\n",
    "    water_year = dt.year + 1\n",
    "start_date = f\"{water_year-1}-10-01\"\n",
    "end_date = date\n",
    "\n",
    "# Define bands to extract from ERA5-Land\n",
    "# See all data bands in the GEE documentation here: \n",
    "# https://developers.google.com/earth-engine/datasets/catalog/ECMWF_ERA5_LAND_DAILY_AGGR#bands\n",
    "bands = ['temperature_2m', \n",
    "         'total_precipitation_sum', \n",
    "         'snowfall_sum', \n",
    "         'snowmelt_sum'] "
   ]
  },
  {
   "cell_type": "code",
   "execution_count": null,
   "metadata": {},
   "outputs": [],
   "source": [
    "# Define output file name\n",
    "out_fn = os.path.join(out_dir, f\"{site_name}_{date.replace('-','')}_ERA5-Land.tif\")\n",
    "\n",
    "# Check if output file already exists\n",
    "if os.path.exists(out_fn):\n",
    "    print('File already exists in file, skipping...')\n",
    "\n",
    "else:\n",
    "\n",
    "    # Grab ERA5-Land daily image collection\n",
    "    era5_land = (ee.ImageCollection(\"ECMWF/ERA5_LAND/DAILY_AGGR\")\n",
    "                             .filter(ee.Filter.date(start_date, end_date))\n",
    "                             .filterBounds(aoi_ee))\n",
    "    \n",
    "    # Clip to AOI\n",
    "    def clip_to_aoi(im):\n",
    "        return im.clip(aoi_ee)\n",
    "    era5_land = era5_land.map(clip_to_aoi)\n",
    "    \n",
    "    # Calculate cumulative snowfall, snowmelt, and precipitation\n",
    "    snowfall_cumsum = era5_land.select('snowfall_sum').reduce(ee.Reducer.sum()).rename('snowfall_cumsum')\n",
    "    snowmelt_cumsum = era5_land.select('snowmelt_sum').reduce(ee.Reducer.sum()).rename('snowmelt_cumsum')\n",
    "    precip_cumsum = era5_land.select('total_precipitation_sum').reduce(ee.Reducer.sum()).rename('precip_cumsum')\n",
    "\n",
    "    # Calculate PDDs\n",
    "    def calculate_pdd(image):\n",
    "        temp_2m = image.select('temperature_2m')\n",
    "        pdd = temp_2m.subtract(273.15).max(0)  # Convert from Kelvin to Celsius and calculate PDD\n",
    "        return image.addBands(pdd.rename('PDD'))\n",
    "    era5_land = era5_land.map(calculate_pdd)\n",
    "    \n",
    "    # Calculate the cumulative sum of PDDs\n",
    "    pdd_cumsum = era5_land.select('PDD').reduce(ee.Reducer.sum()).rename('PDD_cumsum')\n",
    "    \n",
    "    # Combine into one image\n",
    "    final_image = snowfall_cumsum.addBands([snowmelt_cumsum, precip_cumsum, pdd_cumsum])\n",
    "    \n",
    "    # Download to file\n",
    "    final_image_gd = gd.MaskedImage(final_image)\n",
    "    final_image_gd.download(out_fn, region=aoi_ee, scale=100, crs=f\"EPSG:{refdem.rio.crs.to_epsg()}\")\n",
    "    print('ERA5-Land image saved to file:', out_fn)\n",
    "\n",
    "# Open image, adjust bands, and plot\n",
    "era_xr = xr.open_dataset(out_fn)\n",
    "era_ds = xr.Dataset(data_vars=dict(snowfall_cumsum=([\"y\", \"x\"], era_xr.band_data.data[0]),\n",
    "                                   snowmelt_cumsum=([\"y\", \"x\"], era_xr.band_data.data[1]),\n",
    "                                   precip_cumsum=([\"y\", \"x\"], era_xr.band_data.data[2]),\n",
    "                                   pdd_cumsum=([\"y\", \"x\"], era_xr.band_data.data[3])\n",
    "                                  ),\n",
    "                    coords=dict(x=era_xr.x,\n",
    "                                y=era_xr.y\n",
    "                               )\n",
    "                   )\n",
    "data_vars = list(era_ds.data_vars)\n",
    "fig, ax = plt.subplots(len(data_vars), 1, figsize=(6, 6*len(data_vars)), sharex=True, sharey=True)\n",
    "cmaps = ['Blues', 'Reds', 'Greens', 'YlOrRd']\n",
    "for i, var in enumerate(data_vars):\n",
    "    im = ax[i].imshow(era_ds[var].data, cmap=cmaps[i],\n",
    "                      extent=(np.min(era_ds.x.data), np.max(era_ds.x.data), \n",
    "                              np.min(era_ds.y.data), np.max(era_ds.y.data)))\n",
    "    ax[i].set_title(var)\n",
    "    fig.colorbar(im, ax=ax[i])\n",
    "\n",
    "plt.show()"
   ]
  },
  {
   "cell_type": "code",
   "execution_count": null,
   "metadata": {},
   "outputs": [],
   "source": []
  }
 ],
 "metadata": {
  "colab": {
   "authorship_tag": "ABX9TyPUSxvA9DdKOQi56SFRph5u",
   "provenance": []
  },
  "kernelspec": {
   "display_name": "snowmal",
   "language": "python",
   "name": "snowmal"
  },
  "language_info": {
   "codemirror_mode": {
    "name": "ipython",
    "version": 3
   },
   "file_extension": ".py",
   "mimetype": "text/x-python",
   "name": "python",
   "nbconvert_exporter": "python",
   "pygments_lexer": "ipython3",
   "version": "3.12.4"
  }
 },
 "nbformat": 4,
 "nbformat_minor": 4
}
