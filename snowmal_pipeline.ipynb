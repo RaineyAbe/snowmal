{
 "cells": [
  {
   "cell_type": "markdown",
   "id": "dff12761-a009-4296-8a8b-1e6af7a8021f",
   "metadata": {},
   "source": [
    "# SnowMaL pipeline"
   ]
  },
  {
   "cell_type": "code",
   "execution_count": null,
   "id": "17c73be3-0533-4c28-ae3e-9eb67d2715fd",
   "metadata": {},
   "outputs": [],
   "source": [
    "import os, glob\n",
    "import matplotlib.pyplot as plt\n",
    "import datetime\n",
    "import rioxarray as rxr\n",
    "import yaml\n",
    "from TopoPyScale import topoclass as tc\n"
   ]
  },
  {
   "cell_type": "markdown",
   "id": "809229b2-ebaa-4737-bae1-b3a0675140e2",
   "metadata": {},
   "source": [
    "## Define paths in directory and settings"
   ]
  },
  {
   "cell_type": "code",
   "execution_count": null,
   "id": "da86dfe1-27b8-4a71-bddd-d0e3606582bb",
   "metadata": {},
   "outputs": [],
   "source": [
    "# Site name\n",
    "site_name = 'MCS'\n",
    "# Snow depth date\n",
    "sd_date = '2024-03-15'\n",
    "# Path to the snowmal code repository\n",
    "snowmal_path = '/Users/raineyaberle/Research/PhD/SnowDEMs/snowmal'\n",
    "# Path to reference DEM\n",
    "dem_fn = '/Volumes/LaCie/raineyaberle/Research/PhD/SkySat-Stereo/study-sites/MCS/refdem/MCS_REFDEM_WGS84_5m.tif'\n",
    "# Path to snow depth map\n",
    "sd_fn = '/Volumes/LaCie/raineyaberle/Research/PhD/SkySat-Stereo/study-sites/MCS/lidar/20240315_MCS-snowdepth_RF_5m.tif'\n",
    "# Output path\n",
    "out_dir = '/Volumes/LaCie/raineyaberle/Research/PhD/SnowMaL/study-sites/MCS/'"
   ]
  },
  {
   "cell_type": "markdown",
   "id": "ce07ad66-5330-4774-aca0-b6fe27c3e7dc",
   "metadata": {},
   "source": [
    "## 1. Downscale ERA5 data to reference DEM using [TopoPyScale]()"
   ]
  },
  {
   "cell_type": "code",
   "execution_count": null,
   "id": "c83aff34-eb1b-446c-bfa2-528af526090f",
   "metadata": {
    "scrolled": true
   },
   "outputs": [],
   "source": [
    "# -----Define output directory for downscaled ERA5 data\n",
    "era_out_dir = os.path.join(out_dir, 'ERA5')\n",
    "if not os.path.exists(era_out_dir):\n",
    "    os.mkdir(era_out_dir)\n",
    "    print('Made directory')\n",
    "\n",
    "# -----Load and modify example config file\n",
    "config_fn = os.path.join(snowmal_path, 'inputs', 'topopyscale_config_example.yml')\n",
    "with open(config_fn) as stream:\n",
    "    try:\n",
    "        config = yaml.safe_load(stream)\n",
    "    except yaml.YAMLError as exc:\n",
    "        print(exc)\n",
    "# Current date\n",
    "config['project']['date'] = datetime.datetime.now().date()\n",
    "# Paths in directory\n",
    "config['project']['directory'] = era_out_dir\n",
    "config['climate']['era5']['path'] = era_out_dir\n",
    "config['dem']['path'] = os.path.dirname(dem_fn)\n",
    "config['dem']['file'] = os.path.basename(dem_fn)\n",
    "config['outputs']['directory'] = era_out_dir\n",
    "# Output CRS\n",
    "config['dem']['epsg'] = rxr.open_rasterio(dem_fn).rio.crs.to_epsg()\n",
    "# Start and end dates\n",
    "end_date = sd_date\n",
    "end_dt = datetime.date(int(end_date[0:4]), int(end_date[5:7]), int(end_date[8:]))\n",
    "start_year = (end_dt.year if end_dt.month >= 10 else end_dt.year-1)\n",
    "start_dt = datetime.date(start_year, 10, 1)\n",
    "config['project']['start'] = start_dt\n",
    "config['project']['end'] = end_dt\n",
    "# Save adjusted config file\n",
    "adj_config_fn = os.path.join(era_out_dir, 'topopyscale_config.yml')\n",
    "with open(adj_config_fn, 'w') as out_file:\n",
    "    yaml.dump(config, out_file)\n",
    "print('Adjusted config file saved:', adj_config_fn)\n",
    "\n",
    "# -----Run TopoPyScale \n",
    "# Load Configuration\n",
    "mp = tc.Topoclass(adj_config_fn)\n",
    "# Compute parameters of the DEM (slope, aspect, sky view factor)\n",
    "mp.compute_dem_param()\n",
    "mp.extract_topo_param()\n",
    "# compute solar geometry and horizon angles\n",
    "mp.compute_solar_geometry()\n",
    "mp.compute_horizon()\n",
    "# Perform the downscaling\n",
    "mp.downscale_climate()\n",
    "# Export output to desired format\n",
    "mp.to_netcdf()"
   ]
  },
  {
   "cell_type": "markdown",
   "id": "2bd302d3-1446-482d-a3f8-246a4221514d",
   "metadata": {},
   "source": [
    "## 2. Construct training data"
   ]
  },
  {
   "cell_type": "code",
   "execution_count": null,
   "id": "df65ace4-4092-45e1-bed6-7e3de125617b",
   "metadata": {},
   "outputs": [],
   "source": []
  },
  {
   "cell_type": "markdown",
   "id": "2d4ef058-3bab-457a-b331-8009fe9a80d0",
   "metadata": {},
   "source": [
    "## 3. Develop machine learning models"
   ]
  },
  {
   "cell_type": "code",
   "execution_count": null,
   "id": "e7fd08f8-e320-4879-87b7-5e2b661b8078",
   "metadata": {},
   "outputs": [],
   "source": []
  },
  {
   "cell_type": "markdown",
   "id": "45972f52-4733-4382-8290-f08fa880e370",
   "metadata": {},
   "source": [
    "## 4. Construct snow depth predictions time series"
   ]
  },
  {
   "cell_type": "code",
   "execution_count": null,
   "id": "508c3f65-7ed7-4402-9ed2-8adaad437dd6",
   "metadata": {},
   "outputs": [],
   "source": []
  }
 ],
 "metadata": {
  "kernelspec": {
   "display_name": "downscaling",
   "language": "python",
   "name": "downscaling"
  },
  "language_info": {
   "codemirror_mode": {
    "name": "ipython",
    "version": 3
   },
   "file_extension": ".py",
   "mimetype": "text/x-python",
   "name": "python",
   "nbconvert_exporter": "python",
   "pygments_lexer": "ipython3",
   "version": "3.9.16"
  }
 },
 "nbformat": 4,
 "nbformat_minor": 5
}
